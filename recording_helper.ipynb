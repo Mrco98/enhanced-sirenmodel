{
 "cells": [
  {
   "cell_type": "code",
   "execution_count": 1,
   "metadata": {},
   "outputs": [
    {
     "name": "stdout",
     "output_type": "stream",
     "text": [
      "Microsoft Sound Mapper - Output\n",
      "EG24S1 (NVIDIA High Definition \n"
     ]
    }
   ],
   "source": [
    "import numpy as np\n",
    "import pyaudio\n",
    "from time import sleep\n",
    "import speech_recognition\n",
    "import os\n",
    "import wave\n",
    "import io\n",
    "import tensorflow as tf\n",
    "import soundfile as sf\n",
    "import tensorflow_io as tfio\n",
    "import sounddevice\n",
    "\n",
    "FRAMES_PER_BUFFER = 3200\n",
    "FORMAT = pyaudio.paInt16\n",
    "CHANNELS = 1\n",
    "RATE = 48000\n",
    "p = pyaudio.PyAudio()\n",
    "\n",
    "#'''\n",
    "info = p.get_host_api_info_by_index(0)\n",
    "numdevices = info.get('deviceCount')\n",
    "\n",
    "for i in range(0, numdevices):\n",
    "    print(p.get_device_info_by_host_api_device_index(0, i).get('name'))\n",
    "    if (p.get_device_info_by_host_api_device_index(0, i).get('maxInputChannels')) > 0:\n",
    "        print('Input Device id ', i, \" - \", p.get_device_info_by_host_api_device_index(0, i).get('name'))\n",
    "#'''\n",
    "\n"
   ]
  },
  {
   "cell_type": "code",
   "execution_count": null,
   "metadata": {},
   "outputs": [],
   "source": [
    "'''\n",
    "info = p.get_host_api_info_by_index(0)\n",
    "numdevices = info.get('deviceCount')\n",
    "micIndex = 0\n",
    "\n",
    "for i in range (0, numdevices):\n",
    "    if str((p.get_device_info_by_host_api_device_index(0, i).get('name'))) == 'USB Audio: - (hw:3,0)':\n",
    "        micIndex = i\n",
    "        print('micIndex set to: ', p.get_device_info_by_host_api_device_index(0, i).get('name'))\n",
    "'''\n",
    "\n"
   ]
  },
  {
   "cell_type": "code",
   "execution_count": 2,
   "metadata": {},
   "outputs": [
    {
     "name": "stdout",
     "output_type": "stream",
     "text": [
      "[16000, 32000, 44100, 48000, 96000, 128000]\n"
     ]
    }
   ],
   "source": [
    "'''\n",
    "samplerates = 16000, 32000, 44100, 48000, 96000, 128000\n",
    "device = 2\n",
    "\n",
    "supported_sr = []\n",
    "for fs in samplerates:\n",
    "    try:\n",
    "        sounddevice.check_output_settings(device=device, samplerate=fs)\n",
    "    except Exception as e:\n",
    "        print(fs, e)\n",
    "    else:\n",
    "        supported_sr.append(fs)\n",
    "print(supported_sr)\n",
    "'''\n",
    "\n"
   ]
  },
  {
   "cell_type": "code",
   "execution_count": null,
   "metadata": {},
   "outputs": [],
   "source": [
    "def record_audio():\n",
    "    stream = p.open(format=FORMAT\n",
    "                    channels=CHANNELS\n",
    "                    rate=RATE\n",
    "                    input=True\n",
    "                    frames_per_buffer=FRAMES_PER_BUFFER\n",
    "                    input_device_index=1)\n",
    "    frames = []\n",
    "    seconds = 1\n",
    "    for i in range(0, int(RATE/FRAMES_PER_BUFFER * seconds)):\n",
    "        data = stream.read(FRAMES_PER_BUFFER)\n",
    "        frames.append(data)\n",
    "\n",
    "    stream.stop_stream()\n",
    "    stream.close()\n",
    "    return np.frombuffer(b''.join(frames), dtype=np.int16)\n",
    "\n",
    "def terminate():\n",
    "    p.terminate"
   ]
  },
  {
   "cell_type": "markdown",
   "metadata": {},
   "source": [
    "# Experiment things"
   ]
  },
  {
   "cell_type": "code",
   "execution_count": 2,
   "metadata": {},
   "outputs": [
    {
     "name": "stdout",
     "output_type": "stream",
     "text": [
      "Microsoft Sound Mapper - Output\n",
      "EG24S1 (NVIDIA High Definition \n"
     ]
    }
   ],
   "source": [
    "import os\n",
    "os.environ[\"tf_gpu_allocator\"]=\"cuda_malloc_async\"\n",
    "os.environ['TF_CPP_MIN_LOG_LEVEL'] = '2'\n",
    "import numpy as np\n",
    "from tensorflow.keras import models\n",
    "from tensorflow import keras\n",
    "from recording_helper import record_audio, terminate\n",
    "from predict import make_prediction\n",
    "from matplotlib import pyplot as plt\n",
    "import tensorflow as tf"
   ]
  },
  {
   "cell_type": "code",
   "execution_count": 5,
   "metadata": {},
   "outputs": [
    {
     "ename": "OSError",
     "evalue": "[Errno -9998] Invalid number of channels",
     "output_type": "error",
     "traceback": [
      "\u001b[1;31m---------------------------------------------------------------------------\u001b[0m",
      "\u001b[1;31mOSError\u001b[0m                                   Traceback (most recent call last)",
      "\u001b[1;32md:\\SirenNeuralNetwork\\enhanced-sirenmodel\\recording_helper.ipynb Cell 7\u001b[0m line \u001b[0;36m<cell line: 1>\u001b[1;34m()\u001b[0m\n\u001b[1;32m----> <a href='vscode-notebook-cell:/d%3A/SirenNeuralNetwork/enhanced-sirenmodel/recording_helper.ipynb#W6sZmlsZQ%3D%3D?line=0'>1</a>\u001b[0m audio \u001b[39m=\u001b[39m record_audio()\n",
      "File \u001b[1;32md:\\SirenNeuralNetwork\\enhanced-sirenmodel\\recording_helper.py:56\u001b[0m, in \u001b[0;36mrecord_audio\u001b[1;34m()\u001b[0m\n\u001b[0;32m     55\u001b[0m \u001b[39mdef\u001b[39;00m \u001b[39mrecord_audio\u001b[39m():\n\u001b[1;32m---> 56\u001b[0m     stream \u001b[39m=\u001b[39m p\u001b[39m.\u001b[39;49mopen(\u001b[39mformat\u001b[39;49m\u001b[39m=\u001b[39;49mFORMAT,\n\u001b[0;32m     57\u001b[0m                     channels\u001b[39m=\u001b[39;49mCHANNELS,\n\u001b[0;32m     58\u001b[0m                     rate\u001b[39m=\u001b[39;49mRATE,\n\u001b[0;32m     59\u001b[0m                     \u001b[39minput\u001b[39;49m\u001b[39m=\u001b[39;49m\u001b[39mTrue\u001b[39;49;00m,\n\u001b[0;32m     60\u001b[0m                     frames_per_buffer\u001b[39m=\u001b[39;49mFRAMES_PER_BUFFER,\n\u001b[0;32m     61\u001b[0m                     input_device_index\u001b[39m=\u001b[39;49m\u001b[39m1\u001b[39;49m)\n\u001b[0;32m     62\u001b[0m     frames \u001b[39m=\u001b[39m []\n\u001b[0;32m     63\u001b[0m     seconds \u001b[39m=\u001b[39m \u001b[39m1\u001b[39m\n",
      "File \u001b[1;32mc:\\Users\\Markl\\.conda\\envs\\siren\\lib\\site-packages\\pyaudio\\__init__.py:639\u001b[0m, in \u001b[0;36mPyAudio.open\u001b[1;34m(self, *args, **kwargs)\u001b[0m\n\u001b[0;32m    631\u001b[0m \u001b[39mdef\u001b[39;00m \u001b[39mopen\u001b[39m(\u001b[39mself\u001b[39m, \u001b[39m*\u001b[39margs, \u001b[39m*\u001b[39m\u001b[39m*\u001b[39mkwargs):\n\u001b[0;32m    632\u001b[0m \u001b[39m    \u001b[39m\u001b[39m\"\"\"Opens a new stream.\u001b[39;00m\n\u001b[0;32m    633\u001b[0m \n\u001b[0;32m    634\u001b[0m \u001b[39m    See constructor for :py:func:`PyAudio.Stream.__init__` for parameter\u001b[39;00m\n\u001b[1;32m   (...)\u001b[0m\n\u001b[0;32m    637\u001b[0m \u001b[39m    :returns: A new :py:class:`PyAudio.Stream`\u001b[39;00m\n\u001b[0;32m    638\u001b[0m \u001b[39m    \"\"\"\u001b[39;00m\n\u001b[1;32m--> 639\u001b[0m     stream \u001b[39m=\u001b[39m PyAudio\u001b[39m.\u001b[39mStream(\u001b[39mself\u001b[39m, \u001b[39m*\u001b[39margs, \u001b[39m*\u001b[39m\u001b[39m*\u001b[39mkwargs)\n\u001b[0;32m    640\u001b[0m     \u001b[39mself\u001b[39m\u001b[39m.\u001b[39m_streams\u001b[39m.\u001b[39madd(stream)\n\u001b[0;32m    641\u001b[0m     \u001b[39mreturn\u001b[39;00m stream\n",
      "File \u001b[1;32mc:\\Users\\Markl\\.conda\\envs\\siren\\lib\\site-packages\\pyaudio\\__init__.py:441\u001b[0m, in \u001b[0;36mPyAudio.Stream.__init__\u001b[1;34m(self, PA_manager, rate, channels, format, input, output, input_device_index, output_device_index, frames_per_buffer, start, input_host_api_specific_stream_info, output_host_api_specific_stream_info, stream_callback)\u001b[0m\n\u001b[0;32m    438\u001b[0m     arguments[\u001b[39m'\u001b[39m\u001b[39mstream_callback\u001b[39m\u001b[39m'\u001b[39m] \u001b[39m=\u001b[39m stream_callback\n\u001b[0;32m    440\u001b[0m \u001b[39m# calling pa.open returns a stream object\u001b[39;00m\n\u001b[1;32m--> 441\u001b[0m \u001b[39mself\u001b[39m\u001b[39m.\u001b[39m_stream \u001b[39m=\u001b[39m pa\u001b[39m.\u001b[39mopen(\u001b[39m*\u001b[39m\u001b[39m*\u001b[39marguments)\n\u001b[0;32m    443\u001b[0m \u001b[39mself\u001b[39m\u001b[39m.\u001b[39m_input_latency \u001b[39m=\u001b[39m \u001b[39mself\u001b[39m\u001b[39m.\u001b[39m_stream\u001b[39m.\u001b[39minputLatency\n\u001b[0;32m    444\u001b[0m \u001b[39mself\u001b[39m\u001b[39m.\u001b[39m_output_latency \u001b[39m=\u001b[39m \u001b[39mself\u001b[39m\u001b[39m.\u001b[39m_stream\u001b[39m.\u001b[39moutputLatency\n",
      "\u001b[1;31mOSError\u001b[0m: [Errno -9998] Invalid number of channels"
     ]
    }
   ],
   "source": [
    "audio = record_audio()"
   ]
  },
  {
   "cell_type": "code",
   "execution_count": null,
   "metadata": {},
   "outputs": [],
   "source": []
  }
 ],
 "metadata": {
  "kernelspec": {
   "display_name": "siren",
   "language": "python",
   "name": "python3"
  },
  "language_info": {
   "codemirror_mode": {
    "name": "ipython",
    "version": 3
   },
   "file_extension": ".py",
   "mimetype": "text/x-python",
   "name": "python",
   "nbconvert_exporter": "python",
   "pygments_lexer": "ipython3",
   "version": "3.9.18"
  }
 },
 "nbformat": 4,
 "nbformat_minor": 2
}
