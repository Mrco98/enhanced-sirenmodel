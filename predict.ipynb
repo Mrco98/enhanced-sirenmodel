{
 "cells": [
  {
   "cell_type": "code",
   "execution_count": 1,
   "metadata": {},
   "outputs": [],
   "source": [
    "from sklearn.metrics import confusion_matrix, roc_curve, roc_auc_score, accuracy_score, precision_score, recall_score, f1_score\n",
    "import seaborn as sns\n",
    "import matplotlib.pyplot as plt"
   ]
  },
  {
   "cell_type": "code",
   "execution_count": 4,
   "metadata": {},
   "outputs": [
    {
     "name": "stderr",
     "output_type": "stream",
     "text": [
      " 20%|██        | 4/20 [00:00<00:01, 13.79it/s]"
     ]
    },
    {
     "name": "stdout",
     "output_type": "stream",
     "text": [
      "File Name: D:/SirenNeuralNetwork/enhanced-sirenmodel/validation/T3/siren/chunk40.wav Actual class: siren, Predicted class: siren\n",
      "File Name: D:/SirenNeuralNetwork/enhanced-sirenmodel/validation/T3/siren/chunk41.wav Actual class: siren, Predicted class: siren\n",
      "File Name: D:/SirenNeuralNetwork/enhanced-sirenmodel/validation/T3/siren/chunk42.wav Actual class: siren, Predicted class: siren\n",
      "File Name: D:/SirenNeuralNetwork/enhanced-sirenmodel/validation/T3/siren/chunk43.wav Actual class: siren, Predicted class: siren\n",
      "File Name: D:/SirenNeuralNetwork/enhanced-sirenmodel/validation/T3/siren/chunk44.wav Actual class: siren, Predicted class: siren\n"
     ]
    },
    {
     "name": "stderr",
     "output_type": "stream",
     "text": [
      " 35%|███▌      | 7/20 [00:00<00:00, 13.94it/s]"
     ]
    },
    {
     "name": "stdout",
     "output_type": "stream",
     "text": [
      "File Name: D:/SirenNeuralNetwork/enhanced-sirenmodel/validation/T3/siren/chunk45.wav Actual class: siren, Predicted class: siren\n",
      "File Name: D:/SirenNeuralNetwork/enhanced-sirenmodel/validation/T3/siren/chunk46.wav Actual class: siren, Predicted class: siren\n"
     ]
    },
    {
     "name": "stderr",
     "output_type": "stream",
     "text": [
      "\n"
     ]
    },
    {
     "ename": "IndexError",
     "evalue": "list index out of range",
     "output_type": "error",
     "traceback": [
      "\u001b[1;31m---------------------------------------------------------------------------\u001b[0m",
      "\u001b[1;31mIndexError\u001b[0m                                Traceback (most recent call last)",
      "Input \u001b[1;32mIn [4]\u001b[0m, in \u001b[0;36m<cell line: 62>\u001b[1;34m()\u001b[0m\n\u001b[0;32m     80\u001b[0m y_truee \u001b[38;5;241m=\u001b[39m []\n\u001b[0;32m     81\u001b[0m y_predd \u001b[38;5;241m=\u001b[39m []\n\u001b[1;32m---> 82\u001b[0m \u001b[43mmake_prediction\u001b[49m\u001b[43m(\u001b[49m\u001b[43margs\u001b[49m\u001b[43m)\u001b[49m\n\u001b[0;32m     84\u001b[0m \u001b[38;5;66;03m#ACCURACY\u001b[39;00m\n\u001b[0;32m     85\u001b[0m acc_score \u001b[38;5;241m=\u001b[39m accuracy_score(y_true\u001b[38;5;241m=\u001b[39my_truee, y_pred\u001b[38;5;241m=\u001b[39my_predictions)\n",
      "Input \u001b[1;32mIn [4]\u001b[0m, in \u001b[0;36mmake_prediction\u001b[1;34m(args)\u001b[0m\n\u001b[0;32m     51\u001b[0m     real_class \u001b[38;5;241m=\u001b[39m os\u001b[38;5;241m.\u001b[39mpath\u001b[38;5;241m.\u001b[39mdirname(wav_fn)\u001b[38;5;241m.\u001b[39msplit(\u001b[38;5;124m'\u001b[39m\u001b[38;5;124m/\u001b[39m\u001b[38;5;124m'\u001b[39m)[\u001b[38;5;241m-\u001b[39m\u001b[38;5;241m1\u001b[39m]\n\u001b[0;32m     52\u001b[0m     y_truee\u001b[38;5;241m.\u001b[39mappend(classes\u001b[38;5;241m.\u001b[39mindex(real_class))\n\u001b[1;32m---> 53\u001b[0m     \u001b[38;5;28mprint\u001b[39m(\u001b[38;5;124m'\u001b[39m\u001b[38;5;124mFile Name: \u001b[39m\u001b[38;5;124m'\u001b[39m\u001b[38;5;241m+\u001b[39mwav_fn, \u001b[38;5;124m'\u001b[39m\u001b[38;5;124mActual class: \u001b[39m\u001b[38;5;132;01m{}\u001b[39;00m\u001b[38;5;124m, Predicted class: \u001b[39m\u001b[38;5;132;01m{}\u001b[39;00m\u001b[38;5;124m'\u001b[39m\u001b[38;5;241m.\u001b[39mformat(real_class, \u001b[43mclasses\u001b[49m\u001b[43m[\u001b[49m\u001b[43my_pred\u001b[49m\u001b[43m]\u001b[49m))\n\u001b[0;32m     54\u001b[0m     results\u001b[38;5;241m.\u001b[39mappend(y_mean)\n\u001b[0;32m     56\u001b[0m np\u001b[38;5;241m.\u001b[39msave(os\u001b[38;5;241m.\u001b[39mpath\u001b[38;5;241m.\u001b[39mjoin(\u001b[38;5;124m'\u001b[39m\u001b[38;5;124mlogs\u001b[39m\u001b[38;5;124m'\u001b[39m, args\u001b[38;5;241m.\u001b[39mpred_fn), np\u001b[38;5;241m.\u001b[39marray(results))\n",
      "\u001b[1;31mIndexError\u001b[0m: list index out of range"
     ]
    }
   ],
   "source": [
    "from tensorflow.keras.models import load_model\n",
    "from clean import downsample_mono, envelope\n",
    "from kapre.time_frequency import STFT, Magnitude, ApplyFilterbank, MagnitudeToDecibel\n",
    "from sklearn.preprocessing import LabelEncoder\n",
    "import numpy as np\n",
    "from glob import glob\n",
    "import argparse\n",
    "import os\n",
    "import pandas as pd\n",
    "from tqdm import tqdm\n",
    "from sklearn.metrics import accuracy_score, precision_score, recall_score, f1_score\n",
    "\n",
    "def make_prediction(args):\n",
    "\n",
    "    model = load_model(args.model_fn,\n",
    "        custom_objects={'STFT':STFT,\n",
    "                        'Magnitude':Magnitude,\n",
    "                        'ApplyFilterbank':ApplyFilterbank,\n",
    "                        'MagnitudeToDecibel':MagnitudeToDecibel})\n",
    "    wav_paths = glob('{}/**'.format(args.src_dir), recursive=True)\n",
    "    wav_paths = sorted([x.replace(os.sep, '/') for x in wav_paths if '.wav' in x])\n",
    "    classes = sorted(os.listdir(args.src_dir))\n",
    "    labels = [os.path.split(x)[0].split('/')[-1] for x in wav_paths]\n",
    "    le = LabelEncoder()\n",
    "    y_true = le.fit_transform(labels)\n",
    "    results = []\n",
    "    \n",
    "    fn_prob = {}\n",
    "\n",
    "    for z, wav_fn in tqdm(enumerate(wav_paths), total=len(wav_paths)):\n",
    "        rate, wav = downsample_mono(wav_fn, args.sr)\n",
    "        mask, env = envelope(wav, rate, threshold=args.threshold)\n",
    "        clean_wav = wav[mask]\n",
    "        step = int(args.sr*args.dt)\n",
    "        batch = []\n",
    "\n",
    "        for i in range(0, clean_wav.shape[0], step):\n",
    "            sample = clean_wav[i:i+step]\n",
    "            sample = sample.reshape(-1, 1)\n",
    "            if sample.shape[0] < step:\n",
    "                tmp = np.zeros(shape=(step, 1), dtype=np.float32)\n",
    "                tmp[:sample.shape[0],:] = sample.flatten().reshape(-1, 1)\n",
    "                sample = tmp\n",
    "            batch.append(sample)\n",
    "        X_batch = np.array(batch, dtype=np.float32)\n",
    "        y_pred = model.predict(X_batch, verbose=0)\n",
    "        y_predd.append(y_pred)\n",
    "        y_mean = np.mean(y_pred, axis=0)\n",
    "        y_pred = np.argmax(y_mean)\n",
    "        y_predictions.append(y_pred)\n",
    "        real_class = os.path.dirname(wav_fn).split('/')[-1]\n",
    "        y_truee.append(classes.index(real_class))\n",
    "        print('File Name: '+wav_fn, 'Actual class: {}, Predicted class: {}'.format(real_class, classes[y_pred]))\n",
    "        results.append(y_mean)\n",
    "\n",
    "    np.save(os.path.join('logs', args.pred_fn), np.array(results))\n",
    "    return y_truee, y_predictions\n",
    "    \n",
    "\n",
    " \n",
    " \n",
    "if __name__ == '__main__':\n",
    "\n",
    "    parser = argparse.ArgumentParser(description='Audio Classification Training')\n",
    "    parser.add_argument('--model_fn', type=str, default='models/conv2d.h5',\n",
    "                        help='model file to make predictions')\n",
    "    parser.add_argument('--pred_fn', type=str, default='T1',\n",
    "                        help='fn to write predictions in logs dir')\n",
    "    parser.add_argument('--src_dir', type=str, default='D:/SirenNeuralNetwork/enhanced-sirenmodel/validation/T3',\n",
    "                        help='directory containing wavfiles to predict')\n",
    "    parser.add_argument('--dt', type=float, default=1.0,\n",
    "                        help='time in seconds to sample audio')\n",
    "    parser.add_argument('--sr', type=int, default=16000,\n",
    "                        help='sample rate of clean audio')\n",
    "    parser.add_argument('--threshold', type=str, default=20,\n",
    "                        help='threshold magnitude for np.int16 dtype')\n",
    "    args, _ = parser.parse_known_args()\n",
    "\n",
    "    y_predictions = []\n",
    "    y_truee = []\n",
    "    y_predd = []\n",
    "    make_prediction(args)\n",
    "\n",
    "    #ACCURACY\n",
    "    acc_score = accuracy_score(y_true=y_truee, y_pred=y_predictions)\n",
    "    print(f'Accuracy: {acc_score:.3f}')\n",
    "\n",
    "    #PRECISION\n",
    "    precision = precision_score(y_true=y_truee, y_pred=y_predictions, average='micro')\n",
    "    print(f\"Precision: {precision:.3f}\")\n",
    "\n",
    "    #RECALL\n",
    "    recall = recall_score(y_truee, y_predictions, average='micro')\n",
    "    print(f\"Recall: {recall:.3f}\")\n",
    "\n",
    "    #F1 SCORE\n",
    "    f1 = f1_score(y_true=y_truee, y_pred=y_predictions, average='micro')\n",
    "    print(f\"F1 Score: {f1:.3f}\")\n",
    "\n",
    "    print(y_truee, len(y_truee))\n",
    "    print(y_predictions, len(y_predictions))\n"
   ]
  },
  {
   "cell_type": "code",
   "execution_count": 38,
   "metadata": {},
   "outputs": [
    {
     "name": "stdout",
     "output_type": "stream",
     "text": [
      "[array([[2.2967707e-02, 4.8916815e-03, 4.4241449e-04, 1.5827175e-03,\n",
      "        2.6896631e-03, 3.7403930e-05, 9.6377879e-01, 1.8086885e-04,\n",
      "        3.1604627e-03, 2.6837736e-04]], dtype=float32), array([[2.3608295e-04, 2.7531649e-03, 7.0983988e-05, 3.1158523e-04,\n",
      "        1.3094784e-04, 5.3060643e-04, 9.9445987e-01, 6.0124468e-04,\n",
      "        7.5580488e-04, 1.4984608e-04]], dtype=float32), array([[0.01421339, 0.00893247, 0.02349885, 0.0095974 , 0.00245038,\n",
      "        0.00125554, 0.9020512 , 0.02294232, 0.01283829, 0.00222009]],\n",
      "      dtype=float32), array([[2.7039812e-06, 3.0074449e-07, 6.7890454e-07, 2.5000210e-07,\n",
      "        1.9442771e-06, 2.2251663e-09, 9.9999344e-01, 4.9066632e-08,\n",
      "        5.4594705e-07, 1.5581243e-07]], dtype=float32), array([[1.1533301e-07, 2.8294276e-05, 1.4835824e-07, 6.6307912e-08,\n",
      "        1.1431652e-08, 1.8761611e-07, 9.9997020e-01, 1.1122820e-07,\n",
      "        8.2741428e-07, 1.0522657e-08]], dtype=float32), array([[1.0359326e-03, 8.6907437e-04, 1.0373669e-03, 8.1286236e-04,\n",
      "        3.6924248e-04, 2.2189660e-04, 9.9314618e-01, 5.9977995e-04,\n",
      "        1.6588125e-03, 2.4889686e-04]], dtype=float32), array([[1.2334911e-02, 2.8053433e-02, 4.1779354e-03, 7.3863119e-03,\n",
      "        3.3332731e-03, 8.4171465e-05, 3.2196553e-05, 9.4334131e-01,\n",
      "        2.2250022e-05, 1.2343460e-03]], dtype=float32), array([[1.7561355e-05, 5.7607554e-05, 2.5609475e-06, 1.5951200e-05,\n",
      "        6.8822592e-05, 1.9382716e-04, 9.9939191e-01, 9.6141739e-05,\n",
      "        9.2761897e-05, 6.2842388e-05]], dtype=float32), array([[3.2207525e-01, 2.8988132e-03, 1.2517089e-02, 3.7370671e-03,\n",
      "        3.0666724e-02, 4.4567976e-03, 6.1860406e-01, 2.0663687e-03,\n",
      "        5.2111008e-04, 2.4567372e-03]], dtype=float32), array([[2.67592678e-03, 1.49939209e-02, 1.64875400e-03, 8.70090269e-04,\n",
      "        1.01209454e-01, 8.26606120e-05, 8.58374596e-01, 6.93669636e-03,\n",
      "        1.60387019e-04, 1.30475955e-02]], dtype=float32), array([[0.00808639, 0.0037907 , 0.0041478 , 0.00934557, 0.039544  ,\n",
      "        0.01400728, 0.78973633, 0.02205738, 0.01434701, 0.09493745]],\n",
      "      dtype=float32), array([[4.9570322e-06, 8.3728621e-05, 1.0247567e-06, 4.0879709e-06,\n",
      "        7.2681132e-06, 1.1829116e-05, 9.9984193e-01, 2.4020728e-05,\n",
      "        1.3096548e-05, 7.9446399e-06]], dtype=float32), array([[5.1753869e-04, 1.3618149e-05, 4.3816195e-05, 4.6488836e-05,\n",
      "        5.6209054e-04, 5.7219018e-05, 9.9810398e-01, 8.5437750e-05,\n",
      "        1.6103641e-04, 4.0880495e-04]], dtype=float32), array([[6.5877321e-05, 8.6199259e-05, 1.6789512e-05, 5.6359193e-05,\n",
      "        8.4347281e-05, 5.0295005e-04, 9.9788374e-01, 1.0278979e-04,\n",
      "        9.6818333e-04, 2.3275599e-04]], dtype=float32), array([[2.5958814e-06, 3.0990021e-05, 7.7357963e-06, 2.4727462e-05,\n",
      "        2.4897206e-04, 6.0474946e-07, 9.9965596e-01, 1.1563268e-06,\n",
      "        1.3030144e-05, 1.4232554e-05]], dtype=float32), array([[3.7574887e-04, 2.9949385e-03, 2.8978637e-04, 8.8195835e-04,\n",
      "        7.8485990e-03, 2.3109965e-02, 9.5872229e-01, 6.6044886e-04,\n",
      "        4.5048073e-03, 6.1141653e-04]], dtype=float32), array([[7.02940360e-06, 1.00080724e-04, 8.06986554e-06, 3.30880830e-05,\n",
      "        5.03773845e-05, 2.72579091e-05, 9.99297619e-01, 1.79976152e-04,\n",
      "        1.08028078e-04, 1.88397302e-04]], dtype=float32), array([[2.7344521e-04, 1.9508910e-03, 2.2487437e-04, 9.2876417e-04,\n",
      "        3.8888562e-04, 4.2361338e-04, 9.9069887e-01, 1.7885215e-03,\n",
      "        2.4106146e-03, 9.1147848e-04]], dtype=float32), array([[3.5016714e-03, 2.7648031e-03, 5.7615229e-04, 2.0047843e-03,\n",
      "        9.2183799e-03, 1.1853465e-03, 9.7242594e-01, 1.7784626e-03,\n",
      "        3.1224419e-03, 3.4221052e-03]], dtype=float32), array([[0.10253477, 0.0142633 , 0.21609147, 0.01869006, 0.03048958,\n",
      "        0.01292428, 0.00065413, 0.50065315, 0.00099863, 0.10270061]],\n",
      "      dtype=float32)]\n"
     ]
    }
   ],
   "source": [
    "print(y_predd)"
   ]
  },
  {
   "cell_type": "code",
   "execution_count": 48,
   "metadata": {},
   "outputs": [
    {
     "name": "stdout",
     "output_type": "stream",
     "text": [
      "[array([[2.2967707e-02, 4.8916815e-03, 4.4241449e-04, 1.5827175e-03,\n",
      "        2.6896631e-03, 3.7403930e-05, 9.6377879e-01, 1.8086885e-04,\n",
      "        3.1604627e-03, 2.6837736e-04]], dtype=float32), array([[2.3608295e-04, 2.7531649e-03, 7.0983988e-05, 3.1158523e-04,\n",
      "        1.3094784e-04, 5.3060643e-04, 9.9445987e-01, 6.0124468e-04,\n",
      "        7.5580488e-04, 1.4984608e-04]], dtype=float32), array([[0.01421339, 0.00893247, 0.02349885, 0.0095974 , 0.00245038,\n",
      "        0.00125554, 0.9020512 , 0.02294232, 0.01283829, 0.00222009]],\n",
      "      dtype=float32), array([[2.7039812e-06, 3.0074449e-07, 6.7890454e-07, 2.5000210e-07,\n",
      "        1.9442771e-06, 2.2251663e-09, 9.9999344e-01, 4.9066632e-08,\n",
      "        5.4594705e-07, 1.5581243e-07]], dtype=float32), array([[1.1533301e-07, 2.8294276e-05, 1.4835824e-07, 6.6307912e-08,\n",
      "        1.1431652e-08, 1.8761611e-07, 9.9997020e-01, 1.1122820e-07,\n",
      "        8.2741428e-07, 1.0522657e-08]], dtype=float32), array([[1.0359326e-03, 8.6907437e-04, 1.0373669e-03, 8.1286236e-04,\n",
      "        3.6924248e-04, 2.2189660e-04, 9.9314618e-01, 5.9977995e-04,\n",
      "        1.6588125e-03, 2.4889686e-04]], dtype=float32), array([[1.2334911e-02, 2.8053433e-02, 4.1779354e-03, 7.3863119e-03,\n",
      "        3.3332731e-03, 8.4171465e-05, 3.2196553e-05, 9.4334131e-01,\n",
      "        2.2250022e-05, 1.2343460e-03]], dtype=float32), array([[1.7561355e-05, 5.7607554e-05, 2.5609475e-06, 1.5951200e-05,\n",
      "        6.8822592e-05, 1.9382716e-04, 9.9939191e-01, 9.6141739e-05,\n",
      "        9.2761897e-05, 6.2842388e-05]], dtype=float32), array([[3.2207525e-01, 2.8988132e-03, 1.2517089e-02, 3.7370671e-03,\n",
      "        3.0666724e-02, 4.4567976e-03, 6.1860406e-01, 2.0663687e-03,\n",
      "        5.2111008e-04, 2.4567372e-03]], dtype=float32), array([[2.67592678e-03, 1.49939209e-02, 1.64875400e-03, 8.70090269e-04,\n",
      "        1.01209454e-01, 8.26606120e-05, 8.58374596e-01, 6.93669636e-03,\n",
      "        1.60387019e-04, 1.30475955e-02]], dtype=float32), array([[0.00808639, 0.0037907 , 0.0041478 , 0.00934557, 0.039544  ,\n",
      "        0.01400728, 0.78973633, 0.02205738, 0.01434701, 0.09493745]],\n",
      "      dtype=float32), array([[4.9570322e-06, 8.3728621e-05, 1.0247567e-06, 4.0879709e-06,\n",
      "        7.2681132e-06, 1.1829116e-05, 9.9984193e-01, 2.4020728e-05,\n",
      "        1.3096548e-05, 7.9446399e-06]], dtype=float32), array([[5.1753869e-04, 1.3618149e-05, 4.3816195e-05, 4.6488836e-05,\n",
      "        5.6209054e-04, 5.7219018e-05, 9.9810398e-01, 8.5437750e-05,\n",
      "        1.6103641e-04, 4.0880495e-04]], dtype=float32), array([[6.5877321e-05, 8.6199259e-05, 1.6789512e-05, 5.6359193e-05,\n",
      "        8.4347281e-05, 5.0295005e-04, 9.9788374e-01, 1.0278979e-04,\n",
      "        9.6818333e-04, 2.3275599e-04]], dtype=float32), array([[2.5958814e-06, 3.0990021e-05, 7.7357963e-06, 2.4727462e-05,\n",
      "        2.4897206e-04, 6.0474946e-07, 9.9965596e-01, 1.1563268e-06,\n",
      "        1.3030144e-05, 1.4232554e-05]], dtype=float32), array([[3.7574887e-04, 2.9949385e-03, 2.8978637e-04, 8.8195835e-04,\n",
      "        7.8485990e-03, 2.3109965e-02, 9.5872229e-01, 6.6044886e-04,\n",
      "        4.5048073e-03, 6.1141653e-04]], dtype=float32), array([[7.02940360e-06, 1.00080724e-04, 8.06986554e-06, 3.30880830e-05,\n",
      "        5.03773845e-05, 2.72579091e-05, 9.99297619e-01, 1.79976152e-04,\n",
      "        1.08028078e-04, 1.88397302e-04]], dtype=float32), array([[2.7344521e-04, 1.9508910e-03, 2.2487437e-04, 9.2876417e-04,\n",
      "        3.8888562e-04, 4.2361338e-04, 9.9069887e-01, 1.7885215e-03,\n",
      "        2.4106146e-03, 9.1147848e-04]], dtype=float32), array([[3.5016714e-03, 2.7648031e-03, 5.7615229e-04, 2.0047843e-03,\n",
      "        9.2183799e-03, 1.1853465e-03, 9.7242594e-01, 1.7784626e-03,\n",
      "        3.1224419e-03, 3.4221052e-03]], dtype=float32), array([[0.10253477, 0.0142633 , 0.21609147, 0.01869006, 0.03048958,\n",
      "        0.01292428, 0.00065413, 0.50065315, 0.00099863, 0.10270061]],\n",
      "      dtype=float32)]\n"
     ]
    }
   ],
   "source": [
    "print(y_predd[:])"
   ]
  },
  {
   "cell_type": "code",
   "execution_count": 25,
   "metadata": {},
   "outputs": [
    {
     "ename": "TypeError",
     "evalue": "too many positional arguments",
     "output_type": "error",
     "traceback": [
      "\u001b[1;31m---------------------------------------------------------------------------\u001b[0m",
      "\u001b[1;31mTypeError\u001b[0m                                 Traceback (most recent call last)",
      "\u001b[1;32md:\\SirenNeuralNetwork\\enhanced-sirenmodel\\predict.ipynb Cell 3\u001b[0m line \u001b[0;36m<cell line: 1>\u001b[1;34m()\u001b[0m\n\u001b[1;32m----> <a href='vscode-notebook-cell:/d%3A/SirenNeuralNetwork/enhanced-sirenmodel/predict.ipynb#W5sZmlsZQ%3D%3D?line=0'>1</a>\u001b[0m fpr, tpr, thresholds, \u001b[39m=\u001b[39m roc_curve(y_truee, y_predictions, y_predd)\n",
      "File \u001b[1;32mc:\\Users\\Markl\\.conda\\envs\\siren\\lib\\site-packages\\sklearn\\utils\\_param_validation.py:189\u001b[0m, in \u001b[0;36mvalidate_params.<locals>.decorator.<locals>.wrapper\u001b[1;34m(*args, **kwargs)\u001b[0m\n\u001b[0;32m    186\u001b[0m func_sig \u001b[39m=\u001b[39m signature(func)\n\u001b[0;32m    188\u001b[0m \u001b[39m# Map *args/**kwargs to the function signature\u001b[39;00m\n\u001b[1;32m--> 189\u001b[0m params \u001b[39m=\u001b[39m func_sig\u001b[39m.\u001b[39mbind(\u001b[39m*\u001b[39margs, \u001b[39m*\u001b[39m\u001b[39m*\u001b[39mkwargs)\n\u001b[0;32m    190\u001b[0m params\u001b[39m.\u001b[39mapply_defaults()\n\u001b[0;32m    192\u001b[0m \u001b[39m# ignore self/cls and positional/keyword markers\u001b[39;00m\n",
      "File \u001b[1;32mc:\\Users\\Markl\\.conda\\envs\\siren\\lib\\inspect.py:3045\u001b[0m, in \u001b[0;36mSignature.bind\u001b[1;34m(self, *args, **kwargs)\u001b[0m\n\u001b[0;32m   3040\u001b[0m \u001b[39mdef\u001b[39;00m \u001b[39mbind\u001b[39m(\u001b[39mself\u001b[39m, \u001b[39m/\u001b[39m, \u001b[39m*\u001b[39margs, \u001b[39m*\u001b[39m\u001b[39m*\u001b[39mkwargs):\n\u001b[0;32m   3041\u001b[0m \u001b[39m    \u001b[39m\u001b[39m\"\"\"Get a BoundArguments object, that maps the passed `args`\u001b[39;00m\n\u001b[0;32m   3042\u001b[0m \u001b[39m    and `kwargs` to the function's signature.  Raises `TypeError`\u001b[39;00m\n\u001b[0;32m   3043\u001b[0m \u001b[39m    if the passed arguments can not be bound.\u001b[39;00m\n\u001b[0;32m   3044\u001b[0m \u001b[39m    \"\"\"\u001b[39;00m\n\u001b[1;32m-> 3045\u001b[0m     \u001b[39mreturn\u001b[39;00m \u001b[39mself\u001b[39;49m\u001b[39m.\u001b[39;49m_bind(args, kwargs)\n",
      "File \u001b[1;32mc:\\Users\\Markl\\.conda\\envs\\siren\\lib\\inspect.py:2971\u001b[0m, in \u001b[0;36mSignature._bind\u001b[1;34m(self, args, kwargs, partial)\u001b[0m\n\u001b[0;32m   2967\u001b[0m \u001b[39melse\u001b[39;00m:\n\u001b[0;32m   2968\u001b[0m     \u001b[39mif\u001b[39;00m param\u001b[39m.\u001b[39mkind \u001b[39min\u001b[39;00m (_VAR_KEYWORD, _KEYWORD_ONLY):\n\u001b[0;32m   2969\u001b[0m         \u001b[39m# Looks like we have no parameter for this positional\u001b[39;00m\n\u001b[0;32m   2970\u001b[0m         \u001b[39m# argument\u001b[39;00m\n\u001b[1;32m-> 2971\u001b[0m         \u001b[39mraise\u001b[39;00m \u001b[39mTypeError\u001b[39;00m(\n\u001b[0;32m   2972\u001b[0m             \u001b[39m'\u001b[39m\u001b[39mtoo many positional arguments\u001b[39m\u001b[39m'\u001b[39m) \u001b[39mfrom\u001b[39;00m \u001b[39mNone\u001b[39;00m\n\u001b[0;32m   2974\u001b[0m     \u001b[39mif\u001b[39;00m param\u001b[39m.\u001b[39mkind \u001b[39m==\u001b[39m _VAR_POSITIONAL:\n\u001b[0;32m   2975\u001b[0m         \u001b[39m# We have an '*args'-like argument, let's fill it with\u001b[39;00m\n\u001b[0;32m   2976\u001b[0m         \u001b[39m# all positional arguments we have left and move on to\u001b[39;00m\n\u001b[0;32m   2977\u001b[0m         \u001b[39m# the next phase\u001b[39;00m\n\u001b[0;32m   2978\u001b[0m         values \u001b[39m=\u001b[39m [arg_val]\n",
      "\u001b[1;31mTypeError\u001b[0m: too many positional arguments"
     ]
    }
   ],
   "source": [
    "fpr, tpr, thresholds, = roc_curve(y_truee, y_predictions, y_predd)"
   ]
  },
  {
   "cell_type": "code",
   "execution_count": 16,
   "metadata": {},
   "outputs": [
    {
     "name": "stdout",
     "output_type": "stream",
     "text": [
      "Confusion Matrix\n",
      "[[18  2]\n",
      " [ 0  0]]\n"
     ]
    }
   ],
   "source": [
    "cm = confusion_matrix(y_truee, y_predictions)\n",
    "print(\"Confusion Matrix\")\n",
    "print(cm)"
   ]
  },
  {
   "cell_type": "code",
   "execution_count": 49,
   "metadata": {},
   "outputs": [
    {
     "data": {
      "image/png": "[encoded data removed]",
      "text/plain": [
       "<Figure size 640x480 with 1 Axes>"
      ]
     },
     "metadata": {},
     "output_type": "display_data"
    }
   ],
   "source": [
    "sns.heatmap(cm, annot=True, fmt='d', cmap='Blues', cbar=False, xticklabels=['Siren', 'Traffic'], yticklabels=['Siren', 'Traffic'])\n",
    "plt.xlabel('Predicted Class')\n",
    "plt.ylabel('True Class')\n",
    "plt.title('Confusion Matrix')\n",
    "plt.show()\n"
   ]
  },
  {
   "cell_type": "code",
   "execution_count": null,
   "metadata": {},
   "outputs": [],
   "source": []
  }
 ],
 "metadata": {
  "kernelspec": {
   "display_name": "siren",
   "language": "python",
   "name": "python3"
  },
  "language_info": {
   "codemirror_mode": {
    "name": "ipython",
    "version": 3
   },
   "file_extension": ".py",
   "mimetype": "text/x-python",
   "name": "python",
   "nbconvert_exporter": "python",
   "pygments_lexer": "ipython3",
   "version": "3.9.18"
  }
 },
 "nbformat": 4,
 "nbformat_minor": 2
}
