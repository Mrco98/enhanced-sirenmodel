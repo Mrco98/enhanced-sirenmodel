{
 "cells": [
  {
   "cell_type": "code",
   "execution_count": 1,
   "metadata": {},
   "outputs": [],
   "source": [
    "import matplotlib.pyplot as plt\n",
    "from scipy.io import wavfile\n",
    "import argparse\n",
    "import os\n",
    "from glob import glob\n",
    "import numpy as np\n",
    "import pandas as pd\n",
    "from librosa.core import resample, to_mono\n",
    "import librosa\n",
    "from tqdm import tqdm\n",
    "import wavio"
   ]
  },
  {
   "cell_type": "markdown",
   "metadata": {},
   "source": [
    "## def envelope() func"
   ]
  },
  {
   "cell_type": "code",
   "execution_count": 2,
   "metadata": {},
   "outputs": [],
   "source": [
    "def envelope(y, rate, threshold): #clean data to remove parts that are not relevant\n",
    "    mask = []\n",
    "    y = pd.Series(y).apply(np.abs)\n",
    "    y_mean = y.rolling(window=int(rate/20),\n",
    "                       min_periods=1,\n",
    "                       center=True).max()\n",
    "    for mean in y_mean:\n",
    "        if mean > threshold:\n",
    "            mask.append(True)\n",
    "        else:\n",
    "            mask.append(False)\n",
    "    return mask, y_mean"
   ]
  },
  {
   "cell_type": "code",
   "execution_count": 3,
   "metadata": {},
   "outputs": [],
   "source": [
    "signal, sr = librosa.load('D:/NeuralNetwork/UpdatedSiren/data/10577.wav', sr=16000)\n",
    "mask, y_mean = envelope(signal, sr, 0.0005)"
   ]
  },
  {
   "cell_type": "code",
   "execution_count": 11,
   "metadata": {},
   "outputs": [
    {
     "name": "stdout",
     "output_type": "stream",
     "text": [
      "<class 'pandas.core.series.Series'>\n"
     ]
    }
   ],
   "source": [
    "print(type(y_mean))"
   ]
  },
  {
   "cell_type": "markdown",
   "metadata": {},
   "source": [
    "## def downsample_mono () func"
   ]
  },
  {
   "cell_type": "code",
   "execution_count": 5,
   "metadata": {},
   "outputs": [],
   "source": [
    "def downsample_mono(path, sr):\n",
    "    obj = wavio.read(path) #read a wav file and returns an object with data, rate, and sampwidth attribs\n",
    "    wave = obj.data.astype(np.float32, order='F') #changes the data type to np.float32, Fortran order\n",
    "    rate = obj.rate #sets the sampling rate of the wac to variable rate\n",
    "    try:\n",
    "        channel = wave.shape[1] \n",
    "        if channel == 2: #check if channel is stereo\n",
    "            wav = to_mono(wave.T)\n",
    "        elif channel == 1: #check if channel is mono\n",
    "            wav = to_mono(wave.reshape(-1)) #wave.reshape(-1) reshapes the wav to (wave.sr,)\n",
    "    except IndexError:\n",
    "        wav = to_mono(wave.reshape(-1)) #convert audio signal to mono\n",
    "        pass\n",
    "    except Exception as exc:\n",
    "        raise exc\n",
    "    wav = resample(y=wav, orig_sr=rate, target_sr=sr) #resample wav to the target sr of 16000\n",
    "    wav = wav.astype(np.int16) #changes wav dtype to np.int16\n",
    "    return sr, wave"
   ]
  },
  {
   "cell_type": "code",
   "execution_count": 6,
   "metadata": {},
   "outputs": [],
   "source": [
    "rate, wav = downsample_mono('D:/NeuralNetwork/UpdatedSiren/data/10577.wav', 16000)"
   ]
  },
  {
   "cell_type": "code",
   "execution_count": 14,
   "metadata": {},
   "outputs": [
    {
     "name": "stdout",
     "output_type": "stream",
     "text": [
      "float32\n"
     ]
    }
   ],
   "source": [
    "print(wav.dtype)"
   ]
  },
  {
   "cell_type": "markdown",
   "metadata": {},
   "source": [
    "## def save_sample() func"
   ]
  },
  {
   "cell_type": "code",
   "execution_count": 25,
   "metadata": {},
   "outputs": [],
   "source": [
    "def save_sample(sample, rate, target_dir, fn, ix): #saves processed wav to target dir\n",
    "    fn = fn.split('.wav')[0]\n",
    "    dst_path = os.path.join(target_dir.split('.')[0], fn+'_{}.wav'.format(str(ix)))\n",
    "    if os.path.exists(dst_path):\n",
    "        return\n",
    "    wavfile.write(dst_path, rate, sample)"
   ]
  },
  {
   "cell_type": "markdown",
   "metadata": {},
   "source": [
    "## def check_dir() func"
   ]
  },
  {
   "cell_type": "code",
   "execution_count": 26,
   "metadata": {},
   "outputs": [],
   "source": [
    "def check_dir(path): #check if directory exists, creates the dir if not\n",
    "    if os.path.exists(path) is False:\n",
    "        os.mkdir(path)"
   ]
  },
  {
   "cell_type": "markdown",
   "metadata": {},
   "source": [
    "## def split_wavs() func"
   ]
  },
  {
   "cell_type": "code",
   "execution_count": null,
   "metadata": {},
   "outputs": [],
   "source": [
    "def split_wavs(args):\n",
    "    src_root = args.src_root \n",
    "    dst_root = args.dst_root\n",
    "    dt = args.delta_time\n",
    "\n",
    "    wav_paths = glob('{}/**'.format(src_root), recursive=True) \n",
    "    wav_paths = [x for x in wav_paths if '.wav' in x]\n",
    "    dirs = os.listdir(src_root)\n",
    "    check_dir(dst_root)\n",
    "    classes = os.listdir(src_root)\n",
    "    for _cls in classes:\n",
    "        target_dir = os.path.join(dst_root, _cls)\n",
    "        check_dir(target_dir)\n",
    "        src_dir = os.path.join(src_root, _cls)\n",
    "        for fn in tqdm(os.listdir(src_dir)):\n",
    "            src_fn = os.path.join(src_dir, fn)\n",
    "            rate, wav = downsample_mono(src_fn, args.sr)\n",
    "            mask, y_mean = envelope(wav, rate, threshold=args.threshold)\n",
    "            wav = wav[mask]\n",
    "            delta_sample = int(dt*rate)\n",
    "\n",
    "            # cleaned audio is less than a single sample\n",
    "            # pad with zeros to delta_sample size\n",
    "            if wav.shape[0] < delta_sample:\n",
    "                sample = np.zeros(shape=(delta_sample,), dtype=np.int16)\n",
    "                sample[:wav.shape[0]] = wav\n",
    "                save_sample(sample, rate, target_dir, fn, 0)\n",
    "            # step through audio and save every delta_sample\n",
    "            # discard the ending audio if it is too short\n",
    "            else:\n",
    "                trunc = wav.shape[0] % delta_sample\n",
    "                for cnt, i in enumerate(np.arange(0, wav.shape[0]-trunc, delta_sample)):\n",
    "                    start = int(i)\n",
    "                    stop = int(i + delta_sample)\n",
    "                    sample = wav[start:stop]\n",
    "                    save_sample(sample, rate, target_dir, fn, cnt)"
   ]
  },
  {
   "cell_type": "markdown",
   "metadata": {},
   "source": [
    "## def test_threshold() func"
   ]
  },
  {
   "cell_type": "code",
   "execution_count": null,
   "metadata": {},
   "outputs": [],
   "source": [
    "def test_threshold(args):\n",
    "    src_root = args.src_root\n",
    "    wav_paths = glob('{}/**'.format(src_root), recursive=True)\n",
    "    wav_path = [x for x in wav_paths if args.fn in x]\n",
    "    if len(wav_path) != 1:\n",
    "        print('audio file not found for sub-string: {}'.format(args.fn))\n",
    "        return\n",
    "    rate, wav = downsample_mono(wav_path[0], args.sr)\n",
    "    mask, env = envelope(wav, rate, threshold=args.threshold)\n",
    "    plt.style.use('ggplot')\n",
    "    plt.title('Signal Envelope, Threshold = {}'.format(str(args.threshold)))\n",
    "    plt.plot(wav[np.logical_not(mask)], color='r', label='remove')\n",
    "    plt.plot(wav[mask], color='c', label='keep')\n",
    "    plt.plot(env, color='m', label='envelope')\n",
    "    plt.grid(False)\n",
    "    plt.legend(loc='best')\n",
    "    plt.show()"
   ]
  }
 ],
 "metadata": {
  "kernelspec": {
   "display_name": "siren",
   "language": "python",
   "name": "python3"
  },
  "language_info": {
   "codemirror_mode": {
    "name": "ipython",
    "version": 3
   },
   "file_extension": ".py",
   "mimetype": "text/x-python",
   "name": "python",
   "nbconvert_exporter": "python",
   "pygments_lexer": "ipython3",
   "version": "3.9.18"
  }
 },
 "nbformat": 4,
 "nbformat_minor": 2
}
